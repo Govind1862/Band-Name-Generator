{
 "cells": [
  {
   "cell_type": "code",
   "execution_count": 3,
   "id": "9bfc9527-0a0b-4de4-91f0-7ccaaf07f2ab",
   "metadata": {},
   "outputs": [
    {
     "name": "stdout",
     "output_type": "stream",
     "text": [
      "Welcome to the Band Name Generator.\n"
     ]
    },
    {
     "name": "stdin",
     "output_type": "stream",
     "text": [
      "What's the name of the city you grew up in?\n",
      " kota\n",
      "What's your pet's name?\n",
      " chintu\n"
     ]
    },
    {
     "name": "stdout",
     "output_type": "stream",
     "text": [
      "Your band name could be kota chintu\n"
     ]
    }
   ],
   "source": [
    "print(\"Welcome to the Band Name Generator.\")\n",
    "a = input(\"What's the name of the city you grew up in?\\n\")\n",
    "b = input(\"What's your pet's name?\\n\")\n",
    "print(\"Your band name could be \"+a+\" \"+b)"
   ]
  },
  {
   "cell_type": "code",
   "execution_count": null,
   "id": "aebf658c-0157-4f04-82e4-197ec1f28ec9",
   "metadata": {},
   "outputs": [],
   "source": []
  }
 ],
 "metadata": {
  "kernelspec": {
   "display_name": "Python 3 (ipykernel)",
   "language": "python",
   "name": "python3"
  },
  "language_info": {
   "codemirror_mode": {
    "name": "ipython",
    "version": 3
   },
   "file_extension": ".py",
   "mimetype": "text/x-python",
   "name": "python",
   "nbconvert_exporter": "python",
   "pygments_lexer": "ipython3",
   "version": "3.12.4"
  }
 },
 "nbformat": 4,
 "nbformat_minor": 5
}
